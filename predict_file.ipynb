{
 "cells": [
  {
   "cell_type": "code",
   "execution_count": 1,
   "metadata": {},
   "outputs": [
    {
     "name": "stderr",
     "output_type": "stream",
     "text": [
      "Using TensorFlow backend.\n"
     ]
    }
   ],
   "source": [
    "import numpy as np\n",
    "from numpy import array\n",
    "import pandas as pd\n",
    "import matplotlib.pyplot as plt\n",
    "%matplotlib inline\n",
    "import string\n",
    "import os\n",
    "from PIL import Image, ImageOps\n",
    "import math\n",
    "import glob\n",
    "from pickle import dump, load\n",
    "from time import time\n",
    "from keras.preprocessing import sequence\n",
    "from keras.models import Sequential\n",
    "from keras.layers import LSTM, Embedding, TimeDistributed, Dense, RepeatVector,\\\n",
    "                         Activation, Flatten, Reshape, concatenate, Dropout, BatchNormalization\n",
    "from keras.optimizers import Adam, RMSprop\n",
    "from keras.layers.wrappers import Bidirectional\n",
    "from keras.layers.merge import add\n",
    "from keras.applications.inception_v3 import InceptionV3\n",
    "from keras.preprocessing import image\n",
    "from keras.models import Model\n",
    "from keras import Input, layers\n",
    "from keras import optimizers\n",
    "from keras.applications.inception_v3 import preprocess_input\n",
    "from keras.preprocessing.text import Tokenizer\n",
    "from keras.preprocessing.sequence import pad_sequences\n",
    "from keras.utils import to_categorical\n",
    "import tensorflow as tf\n",
    "\n"
   ]
  },
  {
   "cell_type": "code",
   "execution_count": 2,
   "metadata": {},
   "outputs": [
    {
     "name": "stdout",
     "output_type": "stream",
     "text": [
      "WARNING:tensorflow:No training configuration found in the save file, so the model was *not* compiled. Compile it manually.\n"
     ]
    }
   ],
   "source": [
    "model=InceptionV3(weights=\"imagenet\")\n",
    "model_new=Model(model.input,model.layers[-2].output)\n",
    "\n",
    "max_length=72\n",
    "\n",
    "ixtoword=load(open('ixtoword.pkl','rb'))\n",
    "wordtoix=load(open('wordtoix.pkl','rb'))\n",
    "\n",
    "nlp_model=tf.keras.models.load_model('./model_weights/final_model.h5')\n",
    "nlp_model.compile(loss='categorical_crossentropy',optimizer=tf.compat.v1.train.AdamOptimizer(learning_rate=0.0001))\n"
   ]
  },
  {
   "cell_type": "code",
   "execution_count": 3,
   "metadata": {},
   "outputs": [],
   "source": [
    "def preprocess(image_path):\n",
    "    img=image.load_img(image_path)\n",
    "    size=img.size\n",
    "    if(size[0]>size[1]):\n",
    "        (size_max,size_min)=(size[0],size[1])\n",
    "        border_dir='v'\n",
    "    else:\n",
    "        (size_max,size_min)=(size[1],size[0])\n",
    "        border_dir='h'\n",
    "    border_amount=math.ceil((size_max-size_min)/2)\n",
    "    if (border_dir == 'v'):\n",
    "        img = ImageOps.expand(img,border=(0,border_amount),fill='white')\n",
    "    else:\n",
    "        img = ImageOps.expand(img,border=(border_amount,0),fill='white')\n",
    "    \n",
    "    img = img.resize((299,299),resample=0)\n",
    "    x=image.img_to_array(img)\n",
    "    x=np.expand_dims(x,axis=0)\n",
    "    x=preprocess_input(x)\n",
    "    return x"
   ]
  },
  {
   "cell_type": "code",
   "execution_count": 4,
   "metadata": {},
   "outputs": [],
   "source": [
    "def encode(image):\n",
    "    image=preprocess(image)\n",
    "    fea_vec=model_new.predict(image)\n",
    "    fea_vec=np.reshape(fea_vec,fea_vec.shape[1])\n",
    "    return fea_vec"
   ]
  },
  {
   "cell_type": "code",
   "execution_count": 5,
   "metadata": {},
   "outputs": [],
   "source": [
    "def greedySearch(photo):\n",
    "    in_text = 'startseq'\n",
    "    for i in range(max_length):\n",
    "        sequence = [wordtoix[w] for w in in_text.split() if w in wordtoix]\n",
    "        sequence = pad_sequences([sequence], maxlen=max_length)\n",
    "        yhat = nlp_model.predict([photo,sequence], verbose=0)\n",
    "        yhat = np.argmax(yhat)\n",
    "        word = ixtoword[yhat]\n",
    "        in_text += ' ' + word\n",
    "        if word == 'endseq':\n",
    "            break\n",
    "    final = in_text.split()\n",
    "    final = final[1:-1]\n",
    "    final = ' '.join(final)\n",
    "    return final"
   ]
  },
  {
   "cell_type": "code",
   "execution_count": 6,
   "metadata": {},
   "outputs": [],
   "source": [
    "test_folder='./test/'\n",
    "test_images=glob.glob(test_folder+'*.jpg')\n"
   ]
  },
  {
   "cell_type": "code",
   "execution_count": 7,
   "metadata": {},
   "outputs": [],
   "source": [
    "start=time()\n",
    "encoding_test={}\n",
    "for img in test_images:\n",
    "    encoding_test[img[len(test_folder):]]=encode(img)\n",
    "    #print(\"time tken in second=\",time()-start)\n"
   ]
  },
  {
   "cell_type": "code",
   "execution_count": 8,
   "metadata": {},
   "outputs": [],
   "source": [
    "pics=list(encoding_test.keys())\n",
    "for pic in pics:\n",
    "    image=encoding_test[pic].reshape((1,2048))\n",
    "    print(greedySearch(image))\n",
    "    print('\\n')"
   ]
  },
  {
   "cell_type": "code",
   "execution_count": 9,
   "metadata": {},
   "outputs": [
    {
     "data": {
      "text/plain": [
       "'tech eyed woman in black shirt is sitting on couch with her hands on her lap while man in black shirt looks on as she looks at the camera while another man watches him in the background is holding up her hands and the other is holding up her hands and the other is holding her hand and the other is holding her hand and the other is holding her hand'"
      ]
     },
     "execution_count": 9,
     "metadata": {},
     "output_type": "execute_result"
    }
   ],
   "source": [
    "new_encoding_test={}\n",
    "pic_name='1440465.jpg'\n",
    "new_encoding_test[pic_name]=encode(pic_name)\n",
    "image=new_encoding_test[pic_name].reshape((1,2048))\n",
    "greedySearch(image)"
   ]
  }
 ],
 "metadata": {
  "kernelspec": {
   "display_name": "Python 3",
   "language": "python",
   "name": "python3"
  },
  "language_info": {
   "codemirror_mode": {
    "name": "ipython",
    "version": 3
   },
   "file_extension": ".py",
   "mimetype": "text/x-python",
   "name": "python",
   "nbconvert_exporter": "python",
   "pygments_lexer": "ipython3",
   "version": "3.7.1"
  }
 },
 "nbformat": 4,
 "nbformat_minor": 2
}
