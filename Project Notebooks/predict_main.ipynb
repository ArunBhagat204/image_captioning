{
 "cells": [
  {
   "cell_type": "code",
   "execution_count": 1,
   "metadata": {},
   "outputs": [
    {
     "name": "stderr",
     "output_type": "stream",
     "text": [
      "Using TensorFlow backend.\n"
     ]
    }
   ],
   "source": [
    "# Importing generic python libraries\n",
    "import string\n",
    "import os\n",
    "import math\n",
    "import glob\n",
    "import numpy as np\n",
    "from numpy import array\n",
    "import pandas as pd\n",
    "import matplotlib.pyplot as plt\n",
    "%matplotlib inline\n",
    "from time import time\n",
    "\n",
    "# Importing libraries for image manipulation, deep-learning and pickling\n",
    "from PIL import Image, ImageOps\n",
    "from pickle import dump, load\n",
    "import tensorflow as tf\n",
    "\n",
    "# Importing functionalities from 'keras' library\n",
    "from keras.preprocessing import sequence\n",
    "from keras.models import Sequential\n",
    "from keras.layers import LSTM, Embedding, TimeDistributed, Dense, RepeatVector,\\\n",
    "                         Activation, Flatten, Reshape, concatenate, Dropout, BatchNormalization\n",
    "from keras.optimizers import Adam, RMSprop\n",
    "from keras.layers.wrappers import Bidirectional\n",
    "from keras.layers.merge import add\n",
    "from keras.applications.inception_v3 import InceptionV3\n",
    "from keras.preprocessing import image\n",
    "from keras.models import Model\n",
    "from keras import Input, layers\n",
    "from keras import optimizers\n",
    "from keras.applications.inception_v3 import preprocess_input\n",
    "from keras.preprocessing.text import Tokenizer\n",
    "from keras.preprocessing.sequence import pad_sequences\n",
    "from keras.utils import to_categorical"
   ]
  },
  {
   "cell_type": "code",
   "execution_count": 2,
   "metadata": {},
   "outputs": [],
   "source": [
    "# Importing custom modules\n",
    "\n",
    "import image_processing\n",
    "import caption_writer"
   ]
  },
  {
   "cell_type": "code",
   "execution_count": 3,
   "metadata": {},
   "outputs": [],
   "source": [
    "# Loading files to map predicted indices to words and vice-versa\n",
    "\n",
    "ixtoword=load(open('../ixtoword.pkl','rb'))\n",
    "wordtoix=load(open('../wordtoix.pkl','rb'))\n",
    "\n",
    "# Setting maximum length of caption\n",
    "max_length=72"
   ]
  },
  {
   "cell_type": "code",
   "execution_count": 4,
   "metadata": {},
   "outputs": [
    {
     "name": "stdout",
     "output_type": "stream",
     "text": [
      "WARNING:tensorflow:No training configuration found in the save file, so the model was *not* compiled. Compile it manually.\n"
     ]
    }
   ],
   "source": [
    "# Initializing and customizing the InceptionV3 Model\n",
    "\n",
    "model=InceptionV3(weights=\"imagenet\")\n",
    "model_new=Model(model.input,model.layers[-2].output)\n",
    "\n",
    "# Loading pre-trained weights and compiling the model\n",
    "\n",
    "nlp_model=tf.keras.models.load_model('../model_weights/final_model.h5')\n",
    "nlp_model.compile(loss='categorical_crossentropy',optimizer=tf.compat.v1.train.AdamOptimizer(learning_rate=0.0001))"
   ]
  },
  {
   "cell_type": "code",
   "execution_count": 5,
   "metadata": {},
   "outputs": [],
   "source": [
    "# Initializing the path of the test images\n",
    "\n",
    "test_folder='./test/'\n",
    "test_images=glob.glob(test_folder+'*.jpg')"
   ]
  },
  {
   "cell_type": "code",
   "execution_count": 6,
   "metadata": {},
   "outputs": [],
   "source": [
    "# Setting time-stamp as current time and initializing empty dictionary 'encoding_test'\n",
    "\n",
    "start=time()\n",
    "encoding_test={}\n",
    "\n",
    "# Looping through and encoding all the images in the test directory\n",
    "\n",
    "for img in test_images:\n",
    "    encoding_test[img[len(test_folder):]]=image_processing.encode(img, model_new)\n",
    "    #print(\"time taken in second=\",time()-start)"
   ]
  },
  {
   "cell_type": "code",
   "execution_count": 7,
   "metadata": {},
   "outputs": [],
   "source": [
    "# Listing the keys of all the test images\n",
    "pics=list(encoding_test.keys())\n",
    "\n",
    "# Looping through all the mapped images of the test directory\n",
    "for pic in pics:\n",
    "    \n",
    "    # Reshaping the encoding ndarray\n",
    "    image=encoding_test[pic].reshape((1,2048))\n",
    "    \n",
    "    # Generating and printing captions for the encoded image using the trained 'nlp_model'\n",
    "    print(caption_writer.greedySearch(image, max_length, wordtoix, ixtoword, nlp_model))\n",
    "    print('\\n')"
   ]
  },
  {
   "cell_type": "code",
   "execution_count": 8,
   "metadata": {},
   "outputs": [
    {
     "data": {
      "text/plain": [
       "'tech eyed woman in black shirt is sitting on couch with her hands on her lap while man in black shirt looks on as she looks at the camera while another man watches him in the background is holding up her hands and the other is holding up her hands and the other is holding her hand and the other is holding her hand and the other is holding her hand'"
      ]
     },
     "execution_count": 8,
     "metadata": {},
     "output_type": "execute_result"
    }
   ],
   "source": [
    "# Initializing empty dictionary for encoding custom images\n",
    "new_encoding_test={}\n",
    "\n",
    "# Selecting and processing single test image and mapping it into the encoding dictionary\n",
    "\n",
    "pic_name='../1440465.jpg'\n",
    "new_encoding_test[pic_name]=image_processing.encode(pic_name, model_new)\n",
    "\n",
    "# Reshaping encoded image and generating it's captions using 'nlp_model'\n",
    "\n",
    "image=new_encoding_test[pic_name].reshape((1,2048))\n",
    "caption_writer.greedySearch(image, max_length, wordtoix, ixtoword, nlp_model)"
   ]
  }
 ],
 "metadata": {
  "kernelspec": {
   "display_name": "Python 3",
   "language": "python",
   "name": "python3"
  },
  "language_info": {
   "codemirror_mode": {
    "name": "ipython",
    "version": 3
   },
   "file_extension": ".py",
   "mimetype": "text/x-python",
   "name": "python",
   "nbconvert_exporter": "python",
   "pygments_lexer": "ipython3",
   "version": "3.7.1"
  }
 },
 "nbformat": 4,
 "nbformat_minor": 2
}
